{
  "cells": [
    {
      "cell_type": "markdown",
      "metadata": {
        "id": "view-in-github",
        "colab_type": "text"
      },
      "source": [
        "<a href=\"https://colab.research.google.com/github/SarahPendhari/TumorSense/blob/main/Brain_Tumor_Detection_Comparative_Study.ipynb\" target=\"_parent\"><img src=\"https://colab.research.google.com/assets/colab-badge.svg\" alt=\"Open In Colab\"/></a>"
      ]
    },
    {
      "cell_type": "code",
      "execution_count": 1,
      "metadata": {
        "id": "V3NZ_vIIZWAM"
      },
      "outputs": [],
      "source": [
        "import pandas as pd\n",
        "import numpy as np\n",
        "import seaborn as sns\n",
        "import matplotlib.pyplot as plt\n",
        "%matplotlib inline\n"
      ]
    },
    {
      "cell_type": "code",
      "execution_count": 2,
      "metadata": {
        "id": "8RSfnen0aCAS"
      },
      "outputs": [],
      "source": [
        "import os\n",
        "\n",
        "path = os.listdir(r'/content/drive/MyDrive/Dataset/Training')\n"
      ]
    },
    {
      "cell_type": "code",
      "execution_count": 3,
      "metadata": {
        "colab": {
          "base_uri": "https://localhost:8080/"
        },
        "id": "cPCqBWSBahDX",
        "outputId": "fee8ad76-12f9-4681-c137-09f26ac36984"
      },
      "outputs": [
        {
          "output_type": "execute_result",
          "data": {
            "text/plain": [
              "{'no_tumor': 0, 'pituitary_tumor': 1}"
            ]
          },
          "metadata": {},
          "execution_count": 3
        }
      ],
      "source": [
        "classes = {'no_tumor' : 0 , 'pituitary_tumor' : 1}\n",
        "classes"
      ]
    },
    {
      "cell_type": "code",
      "execution_count": null,
      "metadata": {
        "id": "AAzwnU08atvS"
      },
      "outputs": [],
      "source": [
        "import cv2\n",
        "X = []\n",
        "Y = []\n",
        "for cls in classes:\n",
        "    pth = r'/content/drive/MyDrive/Dataset/Training//'+cls\n",
        "    for j in os.listdir(pth):\n",
        "        img = cv2.imread(pth+'/'+j, 0)\n",
        "        img = cv2.resize(img, (200,200))\n",
        "        X.append(img)\n",
        "        Y.append(classes[cls])"
      ]
    },
    {
      "cell_type": "code",
      "execution_count": null,
      "metadata": {
        "id": "fV9xmBN3bNCv"
      },
      "outputs": [],
      "source": [
        "X = np.array(X)\n",
        "Y = np.array(Y)"
      ]
    },
    {
      "cell_type": "code",
      "execution_count": null,
      "metadata": {
        "id": "9BYt5_RMdT54"
      },
      "outputs": [],
      "source": [
        "np.unique(Y) # 0 - No Tumor(Negative), 1 - Tumor(Positive)"
      ]
    },
    {
      "cell_type": "code",
      "execution_count": null,
      "metadata": {
        "id": "-xfpvEXFdWJb"
      },
      "outputs": [],
      "source": [
        "pd.Series(Y).value_counts()         #Calculating the count of both the categories"
      ]
    },
    {
      "cell_type": "code",
      "execution_count": null,
      "metadata": {
        "id": "vn1eePtPdYai"
      },
      "outputs": [],
      "source": [
        "plt.imshow(X[10], cmap='gray')"
      ]
    },
    {
      "cell_type": "code",
      "execution_count": null,
      "metadata": {
        "id": "qw-E4X1KdmQt"
      },
      "outputs": [],
      "source": [
        "X_updated = X.reshape(len(X), -1)\n",
        "X_updated.shape"
      ]
    },
    {
      "cell_type": "code",
      "execution_count": null,
      "metadata": {
        "id": "UjLkkVS3d7x5"
      },
      "outputs": [],
      "source": [
        "from sklearn.model_selection import train_test_split\n",
        "from sklearn.metrics import accuracy_score"
      ]
    },
    {
      "cell_type": "code",
      "execution_count": null,
      "metadata": {
        "id": "4K9r0o9yeBHB"
      },
      "outputs": [],
      "source": [
        "xtrain, xtest, ytrain, ytest = train_test_split(X_updated, Y, random_state=42,test_size=.20)"
      ]
    },
    {
      "cell_type": "code",
      "execution_count": null,
      "metadata": {
        "id": "uGz7XXKseEqE"
      },
      "outputs": [],
      "source": [
        "xtrain.shape, xtest.shape"
      ]
    },
    {
      "cell_type": "code",
      "execution_count": null,
      "metadata": {
        "id": "YH3NiVjBeJtS"
      },
      "outputs": [],
      "source": [
        "from sklearn.tree import DecisionTreeClassifier\n",
        "from sklearn.metrics import accuracy_score, classification_report\n",
        "\n",
        "\n",
        "clf = DecisionTreeClassifier()\n",
        "clf.fit(xtrain, ytrain)\n",
        "\n",
        "# Make predictions on the test\n",
        "ypred = clf.predict(xtest)\n",
        "\n",
        "# Evaluate the model\n",
        "accuracy = accuracy_score(ytest, ypred)\n",
        "report = classification_report(ytest, ypred)\n",
        "print(report)\n",
        "# Print the results\n",
        "print(f\"Accuracy: {accuracy}\")\n",
        "# Assuming your model is trained with 40000 features per sample\n",
        "# Adjust the resize dimensions accordingly\n",
        "image = cv2.imread('/content/drive/MyDrive/Dataset/Training/meningioma_tumor/m (6).jpg', cv2.IMREAD_GRAYSCALE)\n",
        "image = cv2.resize(image, (200, 200))  # Adjusted to create 40000 features (200x200)\n",
        "\n",
        "pixels = image.reshape(-1)\n",
        "if len(pixels) == 40000:\n",
        "    pixels2d = [pixels]\n",
        "    predicted_class = clf.predict(pixels2d)\n",
        "    print(f\"Predicted Class: {predicted_class[0]}\")\n",
        "else:\n",
        "    print(\"Error: Mismatch in feature dimensions.\")\n"
      ]
    },
    {
      "cell_type": "code",
      "execution_count": null,
      "metadata": {
        "id": "NphhcYmHemmd"
      },
      "outputs": [],
      "source": [
        "import matplotlib.pyplot as plt\n",
        "from sklearn.tree import plot_tree\n",
        "plt.figure(figsize=(15, 10))\n",
        "plot_tree(clf, filled=True, feature_names=None, class_names=[\"No Tumor\",\"Tumor\"])\n",
        "plt.savefig('decision_tree.png')\n",
        "plt.show()"
      ]
    },
    {
      "cell_type": "code",
      "execution_count": null,
      "metadata": {
        "id": "pCUoYVm5etY5"
      },
      "outputs": [],
      "source": [
        "from sklearn.metrics import confusion_matrix\n",
        "\n",
        "# Assuming ypred and ytest are already defined as per your previous code\n",
        "\n",
        "# Calculate confusion matrix\n",
        "conf_matrix = confusion_matrix(ytest, ypred)\n",
        "\n",
        "# Print the confusion matrix\n",
        "print(\"Confusion Matrix:\")\n",
        "print(conf_matrix)\n",
        "print('\\n')\n",
        "normalized_conf_matrix = conf_matrix.astype('float') / conf_matrix.sum(axis=1)[:, np.newaxis]\n",
        "\n",
        "# Print the normalized confusion matrix\n",
        "print(\"Normalized Confusion Matrix - Decision Tree:\")\n",
        "print(normalized_conf_matrix)\n",
        "\n",
        "# Plot the normalized confusion matrix with a blue color map\n",
        "plt.figure(figsize=(10, 7))\n",
        "sns.heatmap(normalized_conf_matrix, annot=True, fmt=\".2f\", cmap=\"Blues\")\n",
        "plt.xlabel('Predicted')\n",
        "plt.ylabel('True')\n",
        "plt.title('Normalized Confusion Matrix- Decision Tree:')\n",
        "plt.show()\n"
      ]
    },
    {
      "cell_type": "code",
      "execution_count": null,
      "metadata": {
        "id": "fmshiEFGhLdo"
      },
      "outputs": [],
      "source": [
        "from sklearn.metrics import roc_curve, auc\n",
        "\n",
        "# Assuming you have a binary classification and ytest, xtest are your test labels and features\n",
        "# Compute probabilities\n",
        "y_prob = clf.predict_proba(xtest)[:, 1]\n",
        "\n",
        "# Compute ROC curve and AUC\n",
        "fpr, tpr, thresholds = roc_curve(ytest, y_prob)\n",
        "roc_auc = auc(fpr, tpr)\n",
        "\n",
        "# Plotting\n",
        "plt.figure()\n",
        "plt.plot(fpr, tpr, color='darkorange', lw=2, label='ROC curve (area = %0.2f)' % roc_auc)\n",
        "plt.plot([0, 1], [0, 1], color='navy', lw=2, linestyle='--')\n",
        "plt.xlim([0.0, 1.0])\n",
        "plt.ylim([0.0, 1.05])\n",
        "plt.xlabel('False Positive Rate')\n",
        "plt.ylabel('True Positive Rate')\n",
        "plt.title('Receiver Operating Characteristic')\n",
        "plt.legend(loc=\"lower right\")\n",
        "plt.show()\n"
      ]
    },
    {
      "cell_type": "code",
      "execution_count": null,
      "metadata": {
        "id": "QvfvihDriFQ3"
      },
      "outputs": [],
      "source": [
        "errors = []\n",
        "thresholds = np.linspace(0, 1, 100)\n",
        "\n",
        "for thresh in thresholds:\n",
        "    errors.append(np.mean(((y_prob > thresh) * 1) != ytest))\n",
        "\n",
        "plt.figure()\n",
        "plt.plot(thresholds, errors, label='Error rate')\n",
        "plt.xlabel('Threshold')\n",
        "plt.ylabel('Error rate')\n",
        "plt.title('Error Rate vs. Threshold')\n",
        "plt.legend()\n",
        "plt.show()\n"
      ]
    },
    {
      "cell_type": "code",
      "execution_count": null,
      "metadata": {
        "id": "WdF_Jrq_iJ99"
      },
      "outputs": [],
      "source": [
        "from sklearn.ensemble import RandomForestClassifier\n",
        "from sklearn.metrics import accuracy_score, classification_report"
      ]
    },
    {
      "cell_type": "code",
      "execution_count": null,
      "metadata": {
        "id": "GVScc2tAik2i"
      },
      "outputs": [],
      "source": [
        "# Create a Random Forest Classifier\n",
        "rf_clf = RandomForestClassifier(n_estimators=100, random_state=42) # n_estimators is the number of trees\n",
        "\n",
        "# Train the model on the training data\n",
        "rf_clf.fit(xtrain, ytrain)\n"
      ]
    },
    {
      "cell_type": "code",
      "execution_count": null,
      "metadata": {
        "id": "PDl-30ftip9p"
      },
      "outputs": [],
      "source": [
        "# Make predictions on the test data\n",
        "y_pred_rf = rf_clf.predict(xtest)\n",
        "\n",
        "# Evaluate the model\n",
        "accuracy_rf = accuracy_score(ytest, y_pred_rf)\n",
        "report_rf = classification_report(ytest, y_pred_rf)\n",
        "\n",
        "# Print the results\n",
        "print(f\"Random Forest Accuracy: {accuracy_rf}\")\n",
        "print(\"Random Forest Classification Report:\")\n",
        "print(report_rf)\n"
      ]
    },
    {
      "cell_type": "code",
      "execution_count": null,
      "metadata": {
        "id": "4Y-Sdv0XiuVx"
      },
      "outputs": [],
      "source": [
        "# Compute confusion matrix\n",
        "cm = confusion_matrix(ytest, ypred)\n",
        "\n",
        "# Normalize the confusion matrix\n",
        "cm_normalized = cm.astype('float') / cm.sum(axis=1)[:, np.newaxis]\n",
        "\n",
        "# Plotting\n",
        "plt.figure(figsize=(8, 6))\n",
        "sns.heatmap(cm_normalized, annot=True, fmt=\".2f\", cmap='Blues',\n",
        "            xticklabels=rf_clf.classes_, yticklabels=rf_clf.classes_)\n",
        "plt.ylabel('True label')\n",
        "plt.xlabel('Predicted label')\n",
        "plt.title('Normalized Confusion Matrix for RandomForestClassifier')\n",
        "plt.show()\n"
      ]
    },
    {
      "cell_type": "code",
      "execution_count": null,
      "metadata": {
        "id": "lT9LaPyEjC_h"
      },
      "outputs": [],
      "source": [
        "# Assuming you have your test labels in ytest and\n",
        "# your model's predicted probabilities for the positive class in y_scores\n",
        "y_scores = rf_clf.predict_proba(xtest)[:, 1]  # For binary classification\n",
        "\n",
        "# Compute ROC curve and ROC area\n",
        "fpr, tpr, _ = roc_curve(ytest, y_scores)\n",
        "roc_auc = auc(fpr, tpr)\n",
        "\n",
        "# Plotting\n",
        "plt.figure()\n",
        "plt.plot(fpr, tpr, color='darkorange', lw=2, label='ROC curve (area = %0.2f)' % roc_auc)\n",
        "plt.plot([0, 1], [0, 1], color='navy', lw=2, linestyle='--')\n",
        "plt.xlim([0.0, 1.0])\n",
        "plt.ylim([0.0, 1.05])\n",
        "plt.xlabel('False Positive Rate')\n",
        "plt.ylabel('True Positive Rate')\n",
        "plt.title('Receiver Operating Characteristic')\n",
        "plt.legend(loc=\"lower right\")\n",
        "plt.show()\n"
      ]
    },
    {
      "cell_type": "code",
      "execution_count": null,
      "metadata": {
        "id": "_mHKNlETkRrH"
      },
      "outputs": [],
      "source": [
        "# Calculate the misclassification for each threshold\n",
        "misclassification = 1 - tpr\n",
        "\n",
        "# Plotting\n",
        "plt.figure()\n",
        "plt.plot(fpr, misclassification, color='blue', lw=2)\n",
        "plt.xlabel('False Positive Rate')\n",
        "plt.ylabel('Misclassification Error')\n",
        "plt.title('Misclassification Error across different thresholds')\n",
        "plt.show()\n"
      ]
    },
    {
      "cell_type": "code",
      "execution_count": null,
      "metadata": {
        "id": "7Z_h4cLwkVuD"
      },
      "outputs": [],
      "source": [
        "from sklearn.neighbors import KNeighborsClassifier"
      ]
    },
    {
      "cell_type": "code",
      "execution_count": null,
      "metadata": {
        "id": "mLlz75FplS-Y"
      },
      "outputs": [],
      "source": [
        "knn_clf = KNeighborsClassifier(n_neighbors=5)\n",
        "knn_clf.fit(xtrain, ytrain)\n",
        "# Making predictions\n",
        "ypred_knn = knn_clf.predict(xtest)\n",
        "\n",
        "# Evaluating the model\n",
        "accuracy_knn = accuracy_score(ytest, ypred_knn)\n",
        "report_knn = classification_report(ytest, ypred_knn)\n",
        "\n",
        "# Print the results\n",
        "print(f\"Accuracy: {accuracy_knn}\")\n",
        "print(\"Classification Report:\")\n",
        "print(report_knn)\n"
      ]
    },
    {
      "cell_type": "code",
      "execution_count": null,
      "metadata": {
        "id": "CbOq2kqLlbp3"
      },
      "outputs": [],
      "source": [
        "cm_knn = confusion_matrix(ytest, ypred_knn)\n",
        "cm_knn_normalized = cm_knn.astype('float') / cm_knn.sum(axis=1)[:, np.newaxis]\n",
        "plt.figure(figsize=(8, 6))\n",
        "sns.heatmap(cm_knn_normalized, annot=True, fmt=\".2f\", cmap='Blues')\n",
        "plt.ylabel('True label')\n",
        "plt.xlabel('Predicted label')\n",
        "plt.title('Normalized Confusion Matrix for KNN Classifier')\n",
        "plt.show()\n"
      ]
    },
    {
      "cell_type": "code",
      "execution_count": null,
      "metadata": {
        "id": "YC_jm5zllhDg"
      },
      "outputs": [],
      "source": [
        "from sklearn.metrics import roc_curve, auc\n",
        "import matplotlib.pyplot as plt\n",
        "\n",
        "# Assuming your model and test data are named knn_classifier, Xtest, ytest\n",
        "# Compute predicted probabilities: y_pred_prob\n",
        "y_pred_prob = knn_clf.predict_proba(xtest)[:,1]\n",
        "\n",
        "# Generate ROC curve values: fpr, tpr, thresholds\n",
        "fpr, tpr, thresholds = roc_curve(ytest, y_pred_prob)\n",
        "\n",
        "# Calculate AUC\n",
        "roc_auc = auc(fpr, tpr)\n",
        "\n",
        "# Plot ROC curve\n",
        "plt.figure()\n",
        "plt.plot(fpr, tpr, label='KNN (area = %0.2f)' % roc_auc)\n",
        "plt.plot([0, 1], [0, 1],'r--')\n",
        "plt.xlim([0.0, 1.0])\n",
        "plt.ylim([0.0, 1.05])\n",
        "plt.xlabel('False Positive Rate')\n",
        "plt.ylabel('True Positive Rate')\n",
        "plt.title('Receiver Operating Characteristic')\n",
        "plt.legend(loc=\"lower right\")\n",
        "plt.show()\n"
      ]
    },
    {
      "cell_type": "code",
      "execution_count": null,
      "metadata": {
        "id": "ULa0cgmQmJS1"
      },
      "outputs": [],
      "source": [
        "error_rate = []\n",
        "for i in range(1, 40):  # Assuming you want to test from 1 to 39 neighbors\n",
        "    knn = KNeighborsClassifier(n_neighbors=i)\n",
        "    knn.fit(xtrain, ytrain)\n",
        "    pred_i = knn.predict(xtest)\n",
        "    error_rate.append(np.mean(pred_i != ytest))\n",
        "\n",
        "# Plot\n",
        "plt.figure(figsize=(10, 6))\n",
        "plt.plot(range(1, 40), error_rate, color='blue', linestyle='dashed', marker='o',\n",
        "         markerfacecolor='red', markersize=10)\n",
        "plt.title('Error Rate vs. K Value')\n",
        "plt.xlabel('Number of Neighbors (K)')\n",
        "plt.ylabel('Error Rate')\n",
        "plt.show()\n"
      ]
    },
    {
      "cell_type": "code",
      "execution_count": null,
      "metadata": {
        "id": "zGBYOrqAmcQM"
      },
      "outputs": [],
      "source": [
        "from sklearn import svm\n",
        "# Create a SVM classifier with a linear kernel\n",
        "svm_clf = svm.SVC(kernel='linear')\n",
        "\n",
        "# Train the model on the training data\n",
        "svm_clf.fit(xtrain, ytrain)\n",
        "# Predict the response for the test dataset\n",
        "y_pred = svm_clf.predict(xtest)\n",
        "\n",
        "# Calculate accuracy\n",
        "accuracy = accuracy_score(ytest, y_pred)\n",
        "print(f\"Accuracy: {accuracy}\")\n",
        "\n",
        "# Print classification report for detailed analysis\n",
        "print(classification_report(ytest, y_pred))\n"
      ]
    },
    {
      "cell_type": "code",
      "execution_count": null,
      "metadata": {
        "id": "yFKyi03lnPoT"
      },
      "outputs": [],
      "source": [
        "# Compute confusion matrix\n",
        "cm = confusion_matrix(ytest, y_pred)\n",
        "\n",
        "# Normalize the confusion matrix\n",
        "cm_normalized = cm.astype('float') / cm.sum(axis=1)[:, np.newaxis]\n",
        "# Create a heatmap\n",
        "plt.figure(figsize=(8, 6))\n",
        "sns.heatmap(cm_normalized, annot=True, fmt=\".2f\", cmap=\"Blues\")\n",
        "plt.title('Normalized Confusion Matrix for SVM')\n",
        "plt.ylabel('True label')\n",
        "plt.xlabel('Predicted label')\n",
        "plt.show()\n"
      ]
    },
    {
      "cell_type": "code",
      "execution_count": null,
      "metadata": {
        "id": "BD0PmO9soscy"
      },
      "outputs": [],
      "source": [
        "\n",
        "y_scores = svm_clf.decision_function(xtest)\n",
        "fpr, tpr, threshold = roc_curve(ytest, y_scores)\n",
        "roc_auc = auc(fpr, tpr)\n",
        "plt.figure(figsize=(10, 8))\n",
        "plt.title('Receiver Operating Characteristic')\n",
        "plt.plot(fpr, tpr, 'b', label = 'AUC = %0.2f' % roc_auc)\n",
        "plt.legend(loc = 'lower right')\n",
        "plt.plot([0, 1], [0, 1],'r--')\n",
        "plt.xlim([0, 1])\n",
        "plt.ylim([0, 1])\n",
        "plt.ylabel('True Positive Rate')\n",
        "plt.xlabel('False Positive Rate')\n",
        "plt.show()\n"
      ]
    },
    {
      "cell_type": "code",
      "execution_count": null,
      "metadata": {
        "id": "Km4r9nEopdLN"
      },
      "outputs": [],
      "source": [
        "plt.figure(figsize=(10, 8))\n",
        "plt.title('Error vs. Threshold')\n",
        "plt.plot(threshold, 1 - tpr, label='Error Rate')\n",
        "plt.legend(loc = 'lower left')\n",
        "plt.xlim([threshold.min(), threshold.max()])\n",
        "plt.xlabel('Threshold')\n",
        "plt.ylabel('Error Rate')\n",
        "plt.show()\n"
      ]
    },
    {
      "cell_type": "code",
      "execution_count": null,
      "metadata": {
        "id": "c4te_tvFqJvI"
      },
      "outputs": [],
      "source": [
        "import numpy as np\n",
        "import os\n",
        "import cv2\n",
        "from sklearn.model_selection import train_test_split\n",
        "from tensorflow.keras.utils import to_categorical\n",
        "from tensorflow.keras.models import Sequential\n",
        "from tensorflow.keras.layers import Conv2D, MaxPooling2D\n",
        "from tensorflow.keras.layers import Dense, Dropout, Flatten\n",
        "from tensorflow.keras.optimizers import Adam\n",
        "\n",
        "# Load and preprocess data\n",
        "def load_data(directory, classes):\n",
        "    X = []\n",
        "    Y = []\n",
        "    for idx, cls in enumerate(classes):\n",
        "        path = os.path.join(directory, cls)\n",
        "        for img in os.listdir(path):\n",
        "            try:\n",
        "                image = cv2.imread(os.path.join(path, img))\n",
        "                image = cv2.resize(image, (100, 100))  # Resize images\n",
        "                X.append(image)\n",
        "                Y.append(idx)\n",
        "            except Exception as e:\n",
        "                print(e)\n",
        "    return np.array(X), np.array(Y)\n",
        "\n",
        "# Classes\n",
        "classes = ['no_tumor', 'pituitary_tumor']  # Update with your classes\n",
        "data_directory = '/content/drive/MyDrive/Dataset/Training//'  # Update with your dataset path\n",
        "\n",
        "# Load dataset\n",
        "X, Y = load_data(data_directory, classes)\n",
        "\n",
        "# Normalize the data\n",
        "X = X / 255.0\n",
        "\n",
        "# One-hot encode labels\n",
        "Y = to_categorical(Y, num_classes=len(classes))\n",
        "\n",
        "# Split the data\n",
        "xtrain, xtest, ytrain, ytest = train_test_split(X, Y, test_size=0.2, random_state=42)\n",
        "\n",
        "# Build CNN model\n",
        "model = Sequential()\n",
        "model.add(Conv2D(32, (3, 3), activation='relu', input_shape=(100, 100, 3)))\n",
        "model.add(MaxPooling2D((2, 2)))\n",
        "model.add(Conv2D(64, (3, 3), activation='relu'))\n",
        "model.add(MaxPooling2D((2, 2)))\n",
        "model.add(Conv2D(128, (3, 3), activation='relu'))\n",
        "model.add(Flatten())\n",
        "model.add(Dense(64, activation='relu'))\n",
        "model.add(Dropout(0.5))\n",
        "model.add(Dense(len(classes), activation='softmax'))  # Output layer\n",
        "\n",
        "# Compile the model\n",
        "model.compile(optimizer=Adam(), loss='categorical_crossentropy', metrics=['accuracy'])\n",
        "\n",
        "# Train the model\n",
        "history = model.fit(xtrain, ytrain, epochs=10, validation_data=(xtest, ytest))\n",
        "\n",
        "# Evaluate the model\n",
        "test_loss, test_acc = model.evaluate(xtest, ytest)\n",
        "print(f\"Test Accuracy: {test_acc}\")\n",
        "\n",
        "# Model summary\n",
        "model.summary()\n"
      ]
    },
    {
      "cell_type": "code",
      "source": [
        "history_dict = history.history\n",
        "\n",
        "# Extract accuracy and loss values for training\n",
        "acc = history_dict['accuracy']\n",
        "loss = history_dict['loss']\n",
        "\n",
        "# Extract accuracy and loss values for validation\n",
        "val_acc = history_dict['val_accuracy']\n",
        "val_loss = history_dict['val_loss']\n",
        "\n",
        "# Range of epochs\n",
        "epochs = range(1, len(acc) + 1)\n",
        "\n",
        "# Accuracy plot\n",
        "plt.figure(figsize=(12, 5))\n",
        "plt.subplot(1, 2, 1)\n",
        "plt.plot(epochs, acc, 'bo-', label='Training Accuracy', color='blue')  # Blue for training\n",
        "plt.plot(epochs, val_acc, 'go-', label='Validation Accuracy', color='green')  # Green for validation\n",
        "plt.title('Training and Validation Accuracy')\n",
        "plt.xlabel('Epochs')\n",
        "plt.ylabel('Accuracy')\n",
        "plt.legend()\n",
        "\n",
        "# Loss plot\n",
        "plt.subplot(1, 2, 2)\n",
        "plt.plot(epochs, loss, 'bo-', label='Training Loss', color='blue')  # Blue for training\n",
        "plt.plot(epochs, val_loss, 'go-', label='Validation Loss', color='green')  # Green for validation\n",
        "plt.title('Training and Validation Loss')\n",
        "plt.xlabel('Epochs')\n",
        "plt.ylabel('Loss')\n",
        "plt.legend()\n",
        "\n",
        "plt.show()\n"
      ],
      "metadata": {
        "id": "uLR_s0yJMU6w"
      },
      "execution_count": null,
      "outputs": []
    },
    {
      "cell_type": "code",
      "source": [
        "import tensorflow as tf\n",
        "from tensorflow.keras.applications import VGG16\n",
        "from tensorflow.keras.layers import Input, Flatten, Dense, Dropout\n",
        "from tensorflow.keras.models import Model\n",
        "from tensorflow.keras.optimizers import Adam\n"
      ],
      "metadata": {
        "id": "M4epVD64Mcbg"
      },
      "execution_count": null,
      "outputs": []
    },
    {
      "cell_type": "code",
      "source": [],
      "metadata": {
        "id": "yphKsg_YVZYy"
      },
      "execution_count": null,
      "outputs": []
    }
  ],
  "metadata": {
    "accelerator": "GPU",
    "colab": {
      "provenance": [],
      "mount_file_id": "12OvFww7v2zb3q9zpsE8U6A8XRm0W40t9",
      "authorship_tag": "ABX9TyOTfPoxEDqDSY66yJC4ANME",
      "include_colab_link": true
    },
    "kernelspec": {
      "display_name": "Python 3",
      "name": "python3"
    },
    "language_info": {
      "name": "python"
    }
  },
  "nbformat": 4,
  "nbformat_minor": 0
}